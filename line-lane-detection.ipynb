{
 "cells": [
  {
   "cell_type": "code",
   "execution_count": 10,
   "id": "ce8018ac-1f5e-4495-b0c1-8f7275270697",
   "metadata": {},
   "outputs": [],
   "source": [
    "import cv2\n",
    "import numpy as np\n",
    "#import matplotlib.pyplot as plt\n",
    "import cv2 as cv"
   ]
  },
  {
   "cell_type": "code",
   "execution_count": 11,
   "id": "cfda7a8b-3711-4ae5-b3de-e90d5fa8d783",
   "metadata": {},
   "outputs": [],
   "source": [
    "line_global=0\n",
    "def make_coordinates(image,line_parameters):\n",
    "    global line_global\n",
    "    #print(line_global)\n",
    "    try:\n",
    "        slope, intercept = line_parameters\n",
    "        line_global=line_parameters\n",
    "    except:\n",
    "        slope, intercept=line_global\n",
    "    #print(slope,intercept)\n",
    "    #print(\"-----------------------------\")\n",
    "    y1 = image.shape[0]  # Height\n",
    "    y2 = int(y1 * (3/5))\n",
    "    x1 = int((y1 - intercept)/slope)\n",
    "    x2 = int((y2 - intercept)/slope)\n",
    "    return np.array([x1,y1,x2,y2]) \n"
   ]
  },
  {
   "cell_type": "code",
   "execution_count": 12,
   "id": "0b89bcea-06fd-4bb6-90c8-19b06ea95c17",
   "metadata": {},
   "outputs": [],
   "source": [
    "def average_slope_intercept(image,lines):\n",
    "    left_fit = []\n",
    "    right_fit = []\n",
    "    for line in lines:\n",
    "        x1,y1,x2,y2 = line.reshape(4)\n",
    "        parameters = np.polyfit((x1,x2),(y1,y2),1)\n",
    "        slope = parameters[0]\n",
    "        intercept = parameters[1]\n",
    "        if slope<0:\n",
    "            left_fit.append((slope,intercept))\n",
    "        else :\n",
    "            right_fit.append((slope,intercept))\n",
    "    left_fit_average = np.average(left_fit,axis=0)\n",
    "    right_fit_average = np.average(right_fit,axis=0)\n",
    "    left_line = make_coordinates(image,left_fit_average)\n",
    "    right_line = make_coordinates(image,right_fit_average)\n",
    "    return np.array([left_line,right_line])\n"
   ]
  },
  {
   "cell_type": "code",
   "execution_count": 13,
   "id": "311d92bb-7911-44bb-abf6-f16405e59329",
   "metadata": {},
   "outputs": [],
   "source": [
    "def canny(image):\n",
    "    gray = cv2.cvtColor(image,cv2.COLOR_RGB2GRAY)\n",
    "    blur = cv2.GaussianBlur(gray,(5,5),0)   # Kernel size is 5x5\n",
    "    canny = cv2.Canny(blur,50,150)\n",
    "    return canny"
   ]
  },
  {
   "cell_type": "code",
   "execution_count": 14,
   "id": "5f675b0c-9a41-4ddf-8dfe-bc325e64e93e",
   "metadata": {},
   "outputs": [],
   "source": [
    "\n",
    "def display_lines(image,lines):\n",
    "    line_image = np.zeros_like(image)\n",
    "    if lines is not None:\n",
    "        for line in lines:\n",
    "            x1,y1,x2,y2 = line.reshape(4)  # Reshaping all the lines to a 1D array.\n",
    "            #print(\"-\",x1,\"-\",y1,\"-\",x2,\"-\",y2,\"-\")\n",
    "            try:\n",
    "                line_image=cv2.line(line_image,(x1,y1),(x2,y2),(255,0,0),5) # Draw a Blue Line(BGR in OpenCV)\n",
    "            except:\n",
    "                print(\"except\")\n",
    "    return line_image"
   ]
  },
  {
   "cell_type": "code",
   "execution_count": 15,
   "id": "ccabe1e5-1db3-42fc-b478-a10a4c97fcba",
   "metadata": {},
   "outputs": [],
   "source": [
    "\n",
    "def region_of_interest(image):\n",
    "    height = image.shape[0]\n",
    "    polygons = np.array([\n",
    "        [(200,height),(1100,height),(550,250)]\n",
    "    ])          # Triangle polygon because cv2.fillPoly expects an array of polygons.\n",
    "    mask = np.zeros_like(image)   # Create a black mask to apply the above Triangle on.\n",
    "    cv2.fillPoly(mask,polygons,255)     # A complete white triangle polygon on a black mask.\n",
    "    masked_image = cv2.bitwise_and(image,mask)\n",
    "    return masked_image"
   ]
  },
  {
   "cell_type": "code",
   "execution_count": 16,
   "id": "6ac3798f-9e8f-4b64-8f0d-c8558eecc67d",
   "metadata": {},
   "outputs": [],
   "source": [
    "\"\"\" image = cv2.imread('./test_image.jpg')\n",
    "lane_image = np.copy(image)     # Always make a copy when working with arrays rather than directly assigning\n",
    "canny_image = canny(lane_image)\n",
    "cropped_image = region_of_interest(canny_image)\n",
    "lines = cv2.HoughLinesP(cropped_image,2,np.pi/180,100,np.array([]),minLineLength=10,maxLineGap=5)\n",
    "averaged_lines = average_slope_intercept(lane_image,lines)\n",
    "line_image = display_lines(lane_image,averaged_lines)\n",
    "combo_image = cv2.addWeighted(lane_image,0.8,line_image,1,1)    # Imposing the line_image on the original image\n",
    "\n",
    "cv2.imshow('Result',combo_image)\n",
    "cv2.waitKey(0) \"\"\"\n",
    "fourcc = cv2.VideoWriter_fourcc(*'MP4V') # XVID algoritmasını tanımlama\n",
    "kayit = cv2.VideoWriter('videolar/kayit.mp4',fourcc,20.0,(640,480))"
   ]
  },
  {
   "cell_type": "code",
   "execution_count": 17,
   "id": "1d820639-ebc4-4915-ae94-65f46f382102",
   "metadata": {
    "scrolled": false
   },
   "outputs": [],
   "source": [
    "fourcc = cv2.VideoWriter_fourcc(*'XVID')\n",
    "out = cv2.VideoWriter('output.avi', fourcc, 20.0, (1280,720))\n",
    "cap = cv2.VideoCapture(\"test_video.mp4\")\n",
    "while(cap.isOpened()):\n",
    "    try:\n",
    "        _, frame = cap.read()\n",
    "        canny_image = canny(frame)\n",
    "        cropped_image = region_of_interest(canny_image)\n",
    "        lines = cv2.HoughLinesP(cropped_image,2,np.pi/180,100,np.array([]),minLineLength=10,maxLineGap=5)\n",
    "        averaged_lines = average_slope_intercept(frame,lines)\n",
    "        line_image = display_lines(frame,averaged_lines)\n",
    "        #cukur\n",
    "        gray1 = cv.cvtColor(frame, cv.COLOR_BGR2GRAY)\n",
    "        #_, threshold1 = cv.threshold(gray1, 200, 255, cv.THRESH_BINARY)\n",
    "        _, threshold1 = cv.threshold(gray1, 79, 84, cv.THRESH_BINARY)\n",
    "        _,contours1 ,_x = cv.findContours(threshold1, cv.RETR_TREE, cv.CHAIN_APPROX_SIMPLE)\n",
    "\n",
    "        for con in contours1:\n",
    "            vertices1 = cv.approxPolyDP(con, 0.01 * cv.arcLength(con, True), True)\n",
    "            vertices2 = cv.approxPolyDP(con, 0.01 * cv.arcLength(con, False), True)\n",
    "            if len(vertices1) > 9 and cv.arcLength(con, True) < 500 and len(vertices2) > 9:\n",
    "                cv.drawContours(frame, [con], 0, (0, 0, 255), 3)\n",
    "        combo_image = cv2.addWeighted(frame,0.8,line_image,1,1)    # Imposing the line_image on the original image\n",
    "        a=type(combo_image)\n",
    "        #print(combo_image.shape)\n",
    "        out.write(combo_image) # video yazmayı başlatma\n",
    "        \n",
    "        #cv2.imshow('Result',combo_image)\n",
    "        cv2.waitKey(1)\n",
    "    except:\n",
    "        break\n",
    "cap.release()\n",
    "\n",
    "out.release()\n",
    "\n",
    "cv2.destroyAllWindows()"
   ]
  },
  {
   "cell_type": "code",
   "execution_count": null,
   "id": "bb53491e",
   "metadata": {},
   "outputs": [],
   "source": []
  }
 ],
 "metadata": {
  "kernelspec": {
   "display_name": "Python 3",
   "language": "python",
   "name": "python3"
  },
  "language_info": {
   "codemirror_mode": {
    "name": "ipython",
    "version": 3
   },
   "file_extension": ".py",
   "mimetype": "text/x-python",
   "name": "python",
   "nbconvert_exporter": "python",
   "pygments_lexer": "ipython3",
   "version": "3.6.13"
  }
 },
 "nbformat": 4,
 "nbformat_minor": 5
}
